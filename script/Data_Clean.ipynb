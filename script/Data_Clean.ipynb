{
 "cells": [
  {
   "cell_type": "code",
   "execution_count": 72,
   "metadata": {
    "collapsed": false
   },
   "outputs": [
    {
     "name": "stderr",
     "output_type": "stream",
     "text": [
      "E:\\anaconda2\\lib\\site-packages\\IPython\\core\\interactiveshell.py:2723: DtypeWarning: Columns (3,4,32,39,45,46,49,50,53,75,83,93) have mixed types. Specify dtype option on import or set low_memory=False.\n",
      "  interactivity=interactivity, compiler=compiler, result=result)\n"
     ]
    }
   ],
   "source": [
    "import pandas as pd\n",
    "business=pd.DataFrame(pd.read_csv('yelp_academic_dataset_business.csv'));\n",
    "review=pd.DataFrame(pd.read_csv('yelp_academic_dataset_review.csv'))\n",
    "user=pd.DataFrame(pd.read_csv('yelp_academic_dataset_user.csv'))"
   ]
  },
  {
   "cell_type": "code",
   "execution_count": 71,
   "metadata": {
    "collapsed": false
   },
   "outputs": [],
   "source": [
    "#Remove all the \"attribute.\" in the column names--- Need some changes, decide not to do until later\n",
    "business.columns=business.columns.map(lambda x:x.lstrip('attributes.'))\n",
    "review.columns=review.columns.map(lambda x:x.lstrip('attributes.'))\n",
    "user.columns=user.columns.map(lambda x:x.lstrip('attributes.'))\n"
   ]
  },
  {
   "cell_type": "code",
   "execution_count": null,
   "metadata": {
    "collapsed": true
   },
   "outputs": [],
   "source": [
    "business.head()\n",
    "business.columns.values"
   ]
  },
  {
   "cell_type": "raw",
   "metadata": {},
   "source": [
    "review.head()\n",
    "review.columns.values"
   ]
  },
  {
   "cell_type": "code",
   "execution_count": 93,
   "metadata": {
    "collapsed": false
   },
   "outputs": [
    {
     "data": {
      "text/plain": [
       "array(['compliments.more', 'type', 'compliments.plain',\n",
       "       'compliments.photos', 'votes.funny', 'friends', 'yelping_since',\n",
       "       'user_id', 'compliments.hot', 'compliments.cute',\n",
       "       'compliments.note', 'votes.cool', 'compliments.profile',\n",
       "       'compliments.cool', 'average_stars', 'compliments.funny',\n",
       "       'compliments.writer', 'review_count', 'fans', 'votes.useful',\n",
       "       'compliments.list', 'elite', 'name'], dtype=object)"
      ]
     },
     "execution_count": 93,
     "metadata": {},
     "output_type": "execute_result"
    }
   ],
   "source": [
    "user.head()\n",
    "user.columns.values"
   ]
  },
  {
   "cell_type": "code",
   "execution_count": 77,
   "metadata": {
    "collapsed": false
   },
   "outputs": [
    {
     "name": "stdout",
     "output_type": "stream",
     "text": [
      "b'Mr Hoagie'\n"
     ]
    },
    {
     "data": {
      "text/plain": [
       "'b'"
      ]
     },
     "execution_count": 77,
     "metadata": {},
     "output_type": "execute_result"
    }
   ],
   "source": [
    "type(business['name'][0])\n",
    "print(business['name'][0])"
   ]
  },
  {
   "cell_type": "code",
   "execution_count": 91,
   "metadata": {
    "collapsed": false,
    "scrolled": true
   },
   "outputs": [],
   "source": [
    "#Remove the extra \"b'\" and the back \"'\" in the data set\n",
    "def removeb(x):\n",
    "    if type(x)==str:\n",
    "        x=x[2:-1]\n",
    "        return x\n",
    "    else: return x\n",
    "\n",
    "business_test=business.applymap(lambda x:removeb(x)) \n",
    "review_test=review.applymap(lambda x:removeb(x)) \n",
    "user_test=user.applymap(lambda x:removeb(x)) \n"
   ]
  },
  {
   "cell_type": "code",
   "execution_count": 94,
   "metadata": {
    "collapsed": false
   },
   "outputs": [],
   "source": [
    "#Create a sub-dataset of restaurant business\n",
    "business_restaurant=business_test[business_test['categories'].str.find(\"Restaurant\")>=0]"
   ]
  },
  {
   "cell_type": "code",
   "execution_count": 95,
   "metadata": {
    "collapsed": false
   },
   "outputs": [
    {
     "data": {
      "text/plain": [
       "(26729, 85901)"
      ]
     },
     "execution_count": 95,
     "metadata": {},
     "output_type": "execute_result"
    }
   ],
   "source": [
    "len(business_restaurant), len(business)"
   ]
  },
  {
   "cell_type": "code",
   "execution_count": 96,
   "metadata": {
    "collapsed": false,
    "scrolled": true
   },
   "outputs": [],
   "source": [
    "#Create a sub-dataset of restaurant business related reviews\n",
    "review_restaurant=review_test[review_test['business_id'].isin(business_restaurant['business_id'])]\n"
   ]
  },
  {
   "cell_type": "code",
   "execution_count": 97,
   "metadata": {
    "collapsed": false
   },
   "outputs": [
    {
     "data": {
      "text/plain": [
       "(1630712, 2685066)"
      ]
     },
     "execution_count": 97,
     "metadata": {},
     "output_type": "execute_result"
    }
   ],
   "source": [
    "len(review_restaurant), len(review)\n"
   ]
  },
  {
   "cell_type": "code",
   "execution_count": 98,
   "metadata": {
    "collapsed": false,
    "scrolled": true
   },
   "outputs": [],
   "source": [
    "#Create a sub-dataset of users who made reviews for restaurant on yelp\n",
    "user_restaurant=user_test[user_test['user_id'].isin(review_restaurant['user_id'])]"
   ]
  },
  {
   "cell_type": "code",
   "execution_count": 99,
   "metadata": {
    "collapsed": false
   },
   "outputs": [
    {
     "data": {
      "text/plain": [
       "(478841, 686556)"
      ]
     },
     "execution_count": 99,
     "metadata": {},
     "output_type": "execute_result"
    }
   ],
   "source": [
    "len(user_restaurant), len(user)"
   ]
  },
  {
   "cell_type": "code",
   "execution_count": 119,
   "metadata": {
    "collapsed": false,
    "scrolled": true
   },
   "outputs": [
    {
     "data": {
      "text/plain": [
       "(1630712, 107)"
      ]
     },
     "execution_count": 119,
     "metadata": {},
     "output_type": "execute_result"
    }
   ],
   "source": [
    "review_business=review_restaurant.merge(business_restaurant, on='business_id', how='inner')\n",
    "review_business.shape"
   ]
  },
  {
   "cell_type": "code",
   "execution_count": 140,
   "metadata": {
    "collapsed": false
   },
   "outputs": [
    {
     "data": {
      "text/plain": [
       "array(['compliments.more_user', 'type_user', 'compliments.plain_user',\n",
       "       'compliments.photos_user', 'votes.funny_user', 'friends_user',\n",
       "       'yelping_since_user', 'user_id_user', 'compliments.hot_user',\n",
       "       'compliments.cute_user', 'compliments.note_user', 'votes.cool_user',\n",
       "       'compliments.profile_user', 'compliments.cool_user',\n",
       "       'average_stars_user', 'compliments.funny_user',\n",
       "       'compliments.writer_user', 'review_count_user', 'fans_user',\n",
       "       'votes.useful_user', 'compliments.list_user', 'elite_user',\n",
       "       'name_user'], dtype=object)"
      ]
     },
     "execution_count": 140,
     "metadata": {},
     "output_type": "execute_result"
    }
   ],
   "source": [
    "user_restaurant.columns=user_restaurant.columns+'_user'\n",
    "user_restaurant.columns.values"
   ]
  },
  {
   "cell_type": "code",
   "execution_count": 142,
   "metadata": {
    "collapsed": false
   },
   "outputs": [],
   "source": [
    "review_business_user=review_business.merge(user_restaurant, left_on='user_id', right_on='user_id_user', how='inner')"
   ]
  },
  {
   "cell_type": "code",
   "execution_count": 144,
   "metadata": {
    "collapsed": false
   },
   "outputs": [],
   "source": [
    "review_business_user.to_csv('review_business_user.csv')"
   ]
  },
  {
   "cell_type": "code",
   "execution_count": null,
   "metadata": {
    "collapsed": true
   },
   "outputs": [],
   "source": []
  }
 ],
 "metadata": {
  "anaconda-cloud": {},
  "kernelspec": {
   "display_name": "Python [Root]",
   "language": "python",
   "name": "Python [Root]"
  },
  "language_info": {
   "codemirror_mode": {
    "name": "ipython",
    "version": 3
   },
   "file_extension": ".py",
   "mimetype": "text/x-python",
   "name": "python",
   "nbconvert_exporter": "python",
   "pygments_lexer": "ipython3",
   "version": "3.5.2"
  }
 },
 "nbformat": 4,
 "nbformat_minor": 0
}
